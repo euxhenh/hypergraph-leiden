{
 "cells": [
  {
   "cell_type": "code",
   "execution_count": 2,
   "id": "77f81bd1",
   "metadata": {},
   "outputs": [
    {
     "name": "stderr",
     "output_type": "stream",
     "text": [
      "/Users/mike/opt/miniconda3/envs/leiden2/lib/python3.7/site-packages/tqdm/auto.py:22: TqdmWarning: IProgress not found. Please update jupyter and ipywidgets. See https://ipywidgets.readthedocs.io/en/stable/user_install.html\n",
      "  from .autonotebook import tqdm as notebook_tqdm\n"
     ]
    }
   ],
   "source": [
    "import numpy as np\n",
    "import anndata\n",
    "import pandas as pd\n",
    "import os\n",
    "from src import preprocess, get_hg_reduction, reduce, scatterplot, knn_auto, run_classical_methods\n",
    "import matplotlib.pyplot as plt\n",
    "import igraph as ig\n",
    "import leidenalg as la\n",
    "import seaborn as sns\n",
    "from sklearn.metrics import adjusted_rand_score as ARI\n",
    "from sklearn.metrics import silhouette_score\n",
    "from sklearn.cluster import KMeans, SpectralClustering\n",
    "from sklearn.mixture import GaussianMixture\n",
    "import itertools\n",
    "from datetime import datetime"
   ]
  },
  {
   "cell_type": "code",
   "execution_count": 2,
   "id": "886ee576",
   "metadata": {},
   "outputs": [],
   "source": [
    "sns.set(rc={'figure.figsize':(16,8)})\n",
    "sns.set_style(\"whitegrid\")\n",
    "sns.set_palette(\"Set2\")"
   ]
  },
  {
   "cell_type": "markdown",
   "id": "496f55c7",
   "metadata": {},
   "source": [
    "# Run Methods on Datasets"
   ]
  },
  {
   "cell_type": "code",
   "execution_count": 3,
   "id": "9caa13ae",
   "metadata": {},
   "outputs": [],
   "source": [
    "# Identify cell type columns in each dataset\n",
    "DATA_LOG = []\n",
    "resolutions = [i/10 for i in range(5,16)]\n",
    "CT_COLS = {\n",
    "    'darmanis_brain.h5ad': 'cell.type',\n",
    "    'romanov_brain.h5ad': 'labels',\n",
    "    'zhong_prefrontal.h5ad': 'cell_types',\n",
    "    'lawlow_pancreas.h5ad': 'cell type',\n",
    "    'hermann_spermatogenesis.h5ad': 'celltype',\n",
    "    'ReprocessedAllenData.h5ad': 'Primary.Type',\n",
    "}"
   ]
  },
  {
   "cell_type": "markdown",
   "id": "fe1b946d",
   "metadata": {},
   "source": [
    "## Run classical methods from class"
   ]
  },
  {
   "cell_type": "code",
   "execution_count": 5,
   "id": "a00b4c7a",
   "metadata": {},
   "outputs": [],
   "source": [
    "datasets = list(CT_COLS.keys())\n",
    "n_clusters = list(range(2, 20))\n",
    "trials = list(range(5))\n",
    "combos = itertools.product(datasets, n_clusters, trials)"
   ]
  },
  {
   "cell_type": "code",
   "execution_count": null,
   "id": "f4163ac0",
   "metadata": {},
   "outputs": [],
   "source": [
    "i = 0\n",
    "last_time = datetime.now()\n",
    "for dataset in datasets:\n",
    "\n",
    "    if (\n",
    "        (dataset in DATA_LOG and len(DATA_LOG[dataset]) == len(resolutions) ** 2)\n",
    "        or (not dataset.endswith('.h5ad'))\n",
    "    ):\n",
    "        continue\n",
    "        \n",
    "    print(f\"Running {dataset}\")\n",
    "    \n",
    "    dataset_fn = os.path.join(\"data\", dataset)\n",
    "\n",
    "    # Read in data\n",
    "    adata = anndata.read_h5ad(dataset_fn)\n",
    "    adata = preprocess(\n",
    "        adata,\n",
    "        filter_genes=True,\n",
    "        normalize=True,\n",
    "        log1p=True,\n",
    "        high_var=True,\n",
    "        scale=True,\n",
    "    )\n",
    "    \n",
    "    # Add cell type to 'labels'\n",
    "    adata.obs['labels'] = adata.obs[CT_COLS[dataset]]\n",
    "    \n",
    "    for c in range(2, 21):\n",
    "        print(c, datetime.now() - last_time)\n",
    "        last_time = datetime.now()\n",
    "        ground_truth = np.unique(adata.obs[\"labels\"], return_inverse=True)[1]\n",
    "        kmeans = KMeans(n_clusters=c, random_state=i).fit(adata.X)\n",
    "        score_kmeans = silhouette_score(adata.X, kmeans.labels_)\n",
    "        DATA_LOG.append(\n",
    "            {\n",
    "                \"dataset\": dataset,\n",
    "                \"silhouette_score\": score_kmeans,\n",
    "                \"num_clusters\": c,\n",
    "                \"method\": \"kmeans\",\n",
    "                \"trial\": i,\n",
    "                \"labels\": kmeans.labels_,\n",
    "                \"ground_truth\": ground_truth,\n",
    "            }\n",
    "        )\n",
    "        clustering = SpectralClustering(\n",
    "            n_clusters=c, random_state=i, affinity=\"nearest_neighbors\"\n",
    "        ).fit(adata.X)\n",
    "        score_spectral = silhouette_score(adata.X, clustering.labels_)\n",
    "        DATA_LOG.append(\n",
    "            {\n",
    "                \"dataset\": dataset,\n",
    "                \"silhouette_score\": score_spectral,\n",
    "                \"num_clusters\": c,\n",
    "                \"method\": \"spectral\",\n",
    "                \"trial\": i,\n",
    "                \"labels\": clustering.labels_,\n",
    "                \"ground_truth\": ground_truth,\n",
    "            }\n",
    "        )\n",
    "\n",
    "        gm = GaussianMixture(n_components=c, random_state=i).fit(adata.X)\n",
    "        labels_gm = gm.predict(adata.X)\n",
    "        score_gm = silhouette_score(adata.X, labels_gm)\n",
    "        DATA_LOG.append(\n",
    "            {\n",
    "                \"dataset\": dataset,\n",
    "                \"silhouette_score\": score_gm,\n",
    "                \"num_clusters\": c,\n",
    "                \"method\": \"gm\",\n",
    "                \"trial\": i,\n",
    "                \"labels\": labels_gm,\n",
    "                \"ground_truth\": ground_truth,\n",
    "            }\n",
    "        )"
   ]
  },
  {
   "cell_type": "markdown",
   "id": "394f5c9b",
   "metadata": {},
   "source": [
    "## Get number of clusters selected by Leiden"
   ]
  },
  {
   "cell_type": "code",
   "execution_count": 188,
   "id": "eae3ba1e",
   "metadata": {
    "scrolled": true
   },
   "outputs": [
    {
     "name": "stdout",
     "output_type": "stream",
     "text": [
      "Running darmanis_brain.h5ad\n",
      "adata has shape (466, 22085)\n",
      "After preprocessing, adata has shape (466, 5683)\n"
     ]
    },
    {
     "name": "stderr",
     "output_type": "stream",
     "text": [
      "100%|██████████████████████████████████████████████████████████████████| 5683/5683 [02:45<00:00, 34.31it/s]\n"
     ]
    },
    {
     "name": "stdout",
     "output_type": "stream",
     "text": [
      "Adjacency matrix has shape (466, 466)\n",
      "Running romanov_brain.h5ad\n",
      "adata has shape (2881, 24341)\n"
     ]
    },
    {
     "name": "stderr",
     "output_type": "stream",
     "text": [
      "/Users/mike/opt/miniconda3/envs/leiden2/lib/python3.7/site-packages/scanpy/preprocessing/_simple.py:843: UserWarning: Received a view of an AnnData. Making a copy.\n",
      "  view_to_actual(adata)\n"
     ]
    },
    {
     "name": "stdout",
     "output_type": "stream",
     "text": [
      "After preprocessing, adata has shape (2881, 3729)\n"
     ]
    },
    {
     "name": "stderr",
     "output_type": "stream",
     "text": [
      "100%|██████████████████████████████████████████████████████████████████| 3729/3729 [04:12<00:00, 14.75it/s]\n"
     ]
    },
    {
     "name": "stdout",
     "output_type": "stream",
     "text": [
      "Adjacency matrix has shape (2881, 2881)\n",
      "Running zhong_prefrontal.h5ad\n",
      "adata has shape (2394, 24153)\n"
     ]
    },
    {
     "name": "stderr",
     "output_type": "stream",
     "text": [
      "/Users/mike/opt/miniconda3/envs/leiden2/lib/python3.7/site-packages/scanpy/preprocessing/_normalization.py:197: UserWarning: Some cells have zero counts\n",
      "  warn(UserWarning('Some cells have zero counts'))\n",
      "/Users/mike/opt/miniconda3/envs/leiden2/lib/python3.7/site-packages/scanpy/preprocessing/_simple.py:843: UserWarning: Received a view of an AnnData. Making a copy.\n",
      "  view_to_actual(adata)\n"
     ]
    },
    {
     "name": "stdout",
     "output_type": "stream",
     "text": [
      "After preprocessing, adata has shape (2394, 3976)\n"
     ]
    },
    {
     "name": "stderr",
     "output_type": "stream",
     "text": [
      "100%|██████████████████████████████████████████████████████████████████| 3976/3976 [04:34<00:00, 14.49it/s]\n",
      "/Users/mike/opt/miniconda3/envs/leiden2/lib/python3.7/site-packages/scipy/sparse/_index.py:125: SparseEfficiencyWarning: Changing the sparsity structure of a csr_matrix is expensive. lil_matrix is more efficient.\n",
      "  self._set_arrayXarray(i, j, x)\n"
     ]
    },
    {
     "name": "stdout",
     "output_type": "stream",
     "text": [
      "Adjacency matrix has shape (2394, 2394)\n",
      "Running lawlow_pancreas.h5ad\n",
      "adata has shape (638, 26616)\n"
     ]
    },
    {
     "name": "stderr",
     "output_type": "stream",
     "text": [
      "/Users/mike/opt/miniconda3/envs/leiden2/lib/python3.7/site-packages/scanpy/preprocessing/_simple.py:843: UserWarning: Received a view of an AnnData. Making a copy.\n",
      "  view_to_actual(adata)\n"
     ]
    },
    {
     "name": "stdout",
     "output_type": "stream",
     "text": [
      "After preprocessing, adata has shape (638, 6382)\n"
     ]
    },
    {
     "name": "stderr",
     "output_type": "stream",
     "text": [
      "100%|██████████████████████████████████████████████████████████████████| 6382/6382 [03:29<00:00, 30.41it/s]\n"
     ]
    },
    {
     "name": "stdout",
     "output_type": "stream",
     "text": [
      "Adjacency matrix has shape (638, 638)\n",
      "Running ReprocessedAllenData.h5ad\n",
      "adata has shape (379, 20816)\n"
     ]
    },
    {
     "name": "stderr",
     "output_type": "stream",
     "text": [
      "/Users/mike/opt/miniconda3/envs/leiden2/lib/python3.7/site-packages/scanpy/preprocessing/_simple.py:843: UserWarning: Received a view of an AnnData. Making a copy.\n",
      "  view_to_actual(adata)\n"
     ]
    },
    {
     "name": "stdout",
     "output_type": "stream",
     "text": [
      "After preprocessing, adata has shape (379, 4645)\n"
     ]
    },
    {
     "name": "stderr",
     "output_type": "stream",
     "text": [
      "100%|██████████████████████████████████████████████████████████████████| 4645/4645 [02:20<00:00, 33.05it/s]\n"
     ]
    },
    {
     "name": "stdout",
     "output_type": "stream",
     "text": [
      "Adjacency matrix has shape (379, 379)\n",
      "Running hermann_spermatogenesis.h5ad\n",
      "adata has shape (2325, 54448)\n"
     ]
    },
    {
     "name": "stderr",
     "output_type": "stream",
     "text": [
      "/Users/mike/opt/miniconda3/envs/leiden2/lib/python3.7/site-packages/scanpy/preprocessing/_simple.py:843: UserWarning: Received a view of an AnnData. Making a copy.\n",
      "  view_to_actual(adata)\n"
     ]
    },
    {
     "name": "stdout",
     "output_type": "stream",
     "text": [
      "After preprocessing, adata has shape (2325, 3822)\n"
     ]
    },
    {
     "name": "stderr",
     "output_type": "stream",
     "text": [
      "100%|██████████████████████████████████████████████████████████████████| 3822/3822 [03:36<00:00, 17.68it/s]\n"
     ]
    },
    {
     "name": "stdout",
     "output_type": "stream",
     "text": [
      "Adjacency matrix has shape (2325, 2325)\n"
     ]
    }
   ],
   "source": [
    "CLUSTERS = []\n",
    "for dataset in os.listdir(\"data\"):\n",
    "\n",
    "    if (\n",
    "        (dataset in DATA_LOG and len(DATA_LOG[dataset]) == len(resolutions) ** 2)\n",
    "        or (not dataset.endswith('.h5ad'))\n",
    "    ):\n",
    "        continue\n",
    "        \n",
    "    print(f\"Running {dataset}\")\n",
    "    \n",
    "    dataset_fn = os.path.join(\"data\", dataset)\n",
    "\n",
    "    # Read in data\n",
    "    adata = anndata.read_h5ad(dataset_fn)\n",
    "    adata = preprocess(\n",
    "        adata,\n",
    "        filter_genes=True,\n",
    "        normalize=True,\n",
    "        log1p=True,\n",
    "        high_var=True,\n",
    "        scale=True,\n",
    "    )\n",
    "    \n",
    "    # Add cell type to 'labels'\n",
    "    adata.obs['labels'] = adata.obs[CT_COLS[dataset]]\n",
    "\n",
    "    # this is sparse\n",
    "    reduced_adj = get_hg_reduction(adata.X, n_clusters=4)\n",
    "    print(f\"Adjacency matrix has shape {reduced_adj.shape}\")\n",
    "    order = np.argsort(adata.obs['labels']) # cells ordered so we can see blocks in the heatmap\n",
    "\n",
    "    # Construct graph using reduced adj\n",
    "    sources, targets = reduced_adj.nonzero()\n",
    "    weights = np.array(reduced_adj[sources, targets])\n",
    "    gg = ig.Graph(directed=False)\n",
    "    gg.add_vertices(adata.shape[0]) # cells\n",
    "    gg.add_edges(list(zip(list(sources), list(targets))))\n",
    "\n",
    "    # Construct graph with KNN\n",
    "    sources_base, targets_base, weights_base = knn_auto(adata.X)\n",
    "    gg_base = ig.Graph(directed=False)\n",
    "    gg_base.add_vertices(adata.shape[0]) # cells\n",
    "    gg_base.add_edges(list(zip(list(sources_base), list(targets_base))))\n",
    "    \n",
    "    res = 1\n",
    "\n",
    "    ## Run Leiden - Reduced Adj\n",
    "    part = la.find_partition(\n",
    "        gg,\n",
    "        la.RBConfigurationVertexPartition,\n",
    "        weights=weights.flatten(),\n",
    "        resolution_parameter=res,\n",
    "    )\n",
    "    predictions_reduced_hg = np.array(part.membership, dtype=int)\n",
    "    score_reduced = ARI(predictions_reduced_hg, adata.obs['labels'])\n",
    "\n",
    "    CLUSTERS.append({\n",
    "        'dataset': dataset,\n",
    "        'score': score_reduced,\n",
    "        'method': 'reduced',\n",
    "        'num_clusters': len(np.unique(predictions_reduced_hg)),\n",
    "    })\n",
    "\n",
    "    ## Run Leiden - KNN\n",
    "    part_base = la.find_partition(\n",
    "        gg_base,\n",
    "        la.RBConfigurationVertexPartition,\n",
    "        resolution_parameter=res,\n",
    "    )\n",
    "    predictions_base = np.array(part_base.membership, dtype=int)\n",
    "    score_base = ARI(predictions_base, adata.obs['labels'])\n",
    "\n",
    "    CLUSTERS.append({\n",
    "        'dataset': dataset,\n",
    "        'score': score_base,\n",
    "        'method': 'base',\n",
    "        'num_clusters': len(np.unique(predictions_base)),\n",
    "    })\n",
    "    \n",
    "    CLUSTERS.append({\n",
    "        'dataset': dataset,\n",
    "        'score': score_base,\n",
    "        'method': 'ground_truth',\n",
    "        'num_clusters': len(np.unique(adata.obs['labels'])),\n",
    "    })"
   ]
  },
  {
   "cell_type": "code",
   "execution_count": 259,
   "id": "fad84481",
   "metadata": {},
   "outputs": [
    {
     "data": {
      "text/plain": [
       "900"
      ]
     },
     "execution_count": 259,
     "metadata": {},
     "output_type": "execute_result"
    }
   ],
   "source": [
    "len(DATA_LOG)"
   ]
  },
  {
   "cell_type": "code",
   "execution_count": 273,
   "id": "4d962a0d",
   "metadata": {},
   "outputs": [
    {
     "data": {
      "text/html": [
       "<div>\n",
       "<style scoped>\n",
       "    .dataframe tbody tr th:only-of-type {\n",
       "        vertical-align: middle;\n",
       "    }\n",
       "\n",
       "    .dataframe tbody tr th {\n",
       "        vertical-align: top;\n",
       "    }\n",
       "\n",
       "    .dataframe thead th {\n",
       "        text-align: right;\n",
       "    }\n",
       "</style>\n",
       "<table border=\"1\" class=\"dataframe\">\n",
       "  <thead>\n",
       "    <tr style=\"text-align: right;\">\n",
       "      <th></th>\n",
       "      <th>dataset</th>\n",
       "      <th>score</th>\n",
       "      <th>num_clusters</th>\n",
       "      <th>method</th>\n",
       "      <th>trial</th>\n",
       "    </tr>\n",
       "  </thead>\n",
       "  <tbody>\n",
       "    <tr>\n",
       "      <th>0</th>\n",
       "      <td>darmanis_brain.h5ad</td>\n",
       "      <td>0.384034</td>\n",
       "      <td>10</td>\n",
       "      <td>spectral</td>\n",
       "      <td>0</td>\n",
       "    </tr>\n",
       "    <tr>\n",
       "      <th>1</th>\n",
       "      <td>darmanis_brain.h5ad</td>\n",
       "      <td>0.637491</td>\n",
       "      <td>10</td>\n",
       "      <td>kmeans</td>\n",
       "      <td>0</td>\n",
       "    </tr>\n",
       "    <tr>\n",
       "      <th>2</th>\n",
       "      <td>darmanis_brain.h5ad</td>\n",
       "      <td>0.106815</td>\n",
       "      <td>10</td>\n",
       "      <td>gm</td>\n",
       "      <td>0</td>\n",
       "    </tr>\n",
       "    <tr>\n",
       "      <th>3</th>\n",
       "      <td>darmanis_brain.h5ad</td>\n",
       "      <td>0.421960</td>\n",
       "      <td>11</td>\n",
       "      <td>spectral</td>\n",
       "      <td>0</td>\n",
       "    </tr>\n",
       "    <tr>\n",
       "      <th>4</th>\n",
       "      <td>darmanis_brain.h5ad</td>\n",
       "      <td>0.590129</td>\n",
       "      <td>11</td>\n",
       "      <td>kmeans</td>\n",
       "      <td>0</td>\n",
       "    </tr>\n",
       "  </tbody>\n",
       "</table>\n",
       "</div>"
      ],
      "text/plain": [
       "               dataset     score  num_clusters    method  trial\n",
       "0  darmanis_brain.h5ad  0.384034            10  spectral      0\n",
       "1  darmanis_brain.h5ad  0.637491            10    kmeans      0\n",
       "2  darmanis_brain.h5ad  0.106815            10        gm      0\n",
       "3  darmanis_brain.h5ad  0.421960            11  spectral      0\n",
       "4  darmanis_brain.h5ad  0.590129            11    kmeans      0"
      ]
     },
     "execution_count": 273,
     "metadata": {},
     "output_type": "execute_result"
    }
   ],
   "source": [
    "df = pd.DataFrame(DATA_LOG)\n",
    "df.to_csv('output/classical_methods_raw.csv', index=False)\n",
    "df.head()"
   ]
  },
  {
   "cell_type": "code",
   "execution_count": null,
   "id": "9d3199b8",
   "metadata": {},
   "outputs": [],
   "source": [
    "# Write experimental data\n",
    "leiden_cluster_df = pd.DataFrame(CLUSTERS)\n",
    "leiden_cluster_df.to_csv('output/leiden_cluster_data.csv', index=False)"
   ]
  },
  {
   "cell_type": "code",
   "execution_count": 47,
   "id": "1d34df88",
   "metadata": {},
   "outputs": [],
   "source": [
    "df = pd.DataFrame(DATA_LOG)\n",
    "df.to_csv('output/one_trial_silhouette_score.csv')"
   ]
  },
  {
   "cell_type": "code",
   "execution_count": 14,
   "id": "17111ca0",
   "metadata": {},
   "outputs": [
    {
     "data": {
      "text/html": [
       "<div>\n",
       "<style scoped>\n",
       "    .dataframe tbody tr th:only-of-type {\n",
       "        vertical-align: middle;\n",
       "    }\n",
       "\n",
       "    .dataframe tbody tr th {\n",
       "        vertical-align: top;\n",
       "    }\n",
       "\n",
       "    .dataframe thead th {\n",
       "        text-align: right;\n",
       "    }\n",
       "</style>\n",
       "<table border=\"1\" class=\"dataframe\">\n",
       "  <thead>\n",
       "    <tr style=\"text-align: right;\">\n",
       "      <th></th>\n",
       "      <th>dataset</th>\n",
       "      <th>silhouette_score</th>\n",
       "      <th>num_clusters</th>\n",
       "      <th>method</th>\n",
       "      <th>trial</th>\n",
       "      <th>labels</th>\n",
       "      <th>ground_truth</th>\n",
       "    </tr>\n",
       "  </thead>\n",
       "  <tbody>\n",
       "    <tr>\n",
       "      <th>0</th>\n",
       "      <td>darmanis_brain.h5ad</td>\n",
       "      <td>0.033235</td>\n",
       "      <td>2</td>\n",
       "      <td>kmeans</td>\n",
       "      <td>0</td>\n",
       "      <td>[0, 0, 0, 0, 0, 0, 0, 0, 0, 0, 0, 0, 0, 0, 1, ...</td>\n",
       "      <td>[8, 5, 8, 5, 5, 8, 8, 5, 5, 5, 8, 5, 5, 5, 1, ...</td>\n",
       "    </tr>\n",
       "    <tr>\n",
       "      <th>1</th>\n",
       "      <td>darmanis_brain.h5ad</td>\n",
       "      <td>-0.008399</td>\n",
       "      <td>2</td>\n",
       "      <td>spectral</td>\n",
       "      <td>0</td>\n",
       "      <td>[0, 0, 0, 0, 0, 0, 0, 0, 0, 0, 0, 0, 0, 0, 0, ...</td>\n",
       "      <td>[8, 5, 8, 5, 5, 8, 8, 5, 5, 5, 8, 5, 5, 5, 1, ...</td>\n",
       "    </tr>\n",
       "    <tr>\n",
       "      <th>2</th>\n",
       "      <td>darmanis_brain.h5ad</td>\n",
       "      <td>0.043289</td>\n",
       "      <td>2</td>\n",
       "      <td>gm</td>\n",
       "      <td>0</td>\n",
       "      <td>[1, 1, 1, 1, 1, 1, 1, 1, 1, 1, 1, 1, 1, 1, 1, ...</td>\n",
       "      <td>[8, 5, 8, 5, 5, 8, 8, 5, 5, 5, 8, 5, 5, 5, 1, ...</td>\n",
       "    </tr>\n",
       "    <tr>\n",
       "      <th>3</th>\n",
       "      <td>darmanis_brain.h5ad</td>\n",
       "      <td>0.047225</td>\n",
       "      <td>3</td>\n",
       "      <td>kmeans</td>\n",
       "      <td>0</td>\n",
       "      <td>[1, 1, 1, 1, 1, 1, 1, 1, 1, 1, 1, 1, 1, 1, 1, ...</td>\n",
       "      <td>[8, 5, 8, 5, 5, 8, 8, 5, 5, 5, 8, 5, 5, 5, 1, ...</td>\n",
       "    </tr>\n",
       "    <tr>\n",
       "      <th>4</th>\n",
       "      <td>darmanis_brain.h5ad</td>\n",
       "      <td>-0.009007</td>\n",
       "      <td>3</td>\n",
       "      <td>spectral</td>\n",
       "      <td>0</td>\n",
       "      <td>[2, 0, 2, 0, 0, 0, 2, 0, 0, 2, 2, 0, 0, 0, 0, ...</td>\n",
       "      <td>[8, 5, 8, 5, 5, 8, 8, 5, 5, 5, 8, 5, 5, 5, 1, ...</td>\n",
       "    </tr>\n",
       "  </tbody>\n",
       "</table>\n",
       "</div>"
      ],
      "text/plain": [
       "               dataset  silhouette_score  num_clusters    method  trial  \\\n",
       "0  darmanis_brain.h5ad          0.033235             2    kmeans      0   \n",
       "1  darmanis_brain.h5ad         -0.008399             2  spectral      0   \n",
       "2  darmanis_brain.h5ad          0.043289             2        gm      0   \n",
       "3  darmanis_brain.h5ad          0.047225             3    kmeans      0   \n",
       "4  darmanis_brain.h5ad         -0.009007             3  spectral      0   \n",
       "\n",
       "                                              labels  \\\n",
       "0  [0, 0, 0, 0, 0, 0, 0, 0, 0, 0, 0, 0, 0, 0, 1, ...   \n",
       "1  [0, 0, 0, 0, 0, 0, 0, 0, 0, 0, 0, 0, 0, 0, 0, ...   \n",
       "2  [1, 1, 1, 1, 1, 1, 1, 1, 1, 1, 1, 1, 1, 1, 1, ...   \n",
       "3  [1, 1, 1, 1, 1, 1, 1, 1, 1, 1, 1, 1, 1, 1, 1, ...   \n",
       "4  [2, 0, 2, 0, 0, 0, 2, 0, 0, 2, 2, 0, 0, 0, 0, ...   \n",
       "\n",
       "                                        ground_truth  \n",
       "0  [8, 5, 8, 5, 5, 8, 8, 5, 5, 5, 8, 5, 5, 5, 1, ...  \n",
       "1  [8, 5, 8, 5, 5, 8, 8, 5, 5, 5, 8, 5, 5, 5, 1, ...  \n",
       "2  [8, 5, 8, 5, 5, 8, 8, 5, 5, 5, 8, 5, 5, 5, 1, ...  \n",
       "3  [8, 5, 8, 5, 5, 8, 8, 5, 5, 5, 8, 5, 5, 5, 1, ...  \n",
       "4  [8, 5, 8, 5, 5, 8, 8, 5, 5, 5, 8, 5, 5, 5, 1, ...  "
      ]
     },
     "execution_count": 14,
     "metadata": {},
     "output_type": "execute_result"
    }
   ],
   "source": [
    "df.head()"
   ]
  },
  {
   "cell_type": "markdown",
   "id": "de90221e",
   "metadata": {},
   "source": [
    "# Data Analysis"
   ]
  },
  {
   "cell_type": "code",
   "execution_count": 4,
   "id": "c8bfd7e4",
   "metadata": {
    "scrolled": false
   },
   "outputs": [
    {
     "data": {
      "text/html": [
       "<div>\n",
       "<style scoped>\n",
       "    .dataframe tbody tr th:only-of-type {\n",
       "        vertical-align: middle;\n",
       "    }\n",
       "\n",
       "    .dataframe tbody tr th {\n",
       "        vertical-align: top;\n",
       "    }\n",
       "\n",
       "    .dataframe thead th {\n",
       "        text-align: right;\n",
       "    }\n",
       "</style>\n",
       "<table border=\"1\" class=\"dataframe\">\n",
       "  <thead>\n",
       "    <tr style=\"text-align: right;\">\n",
       "      <th></th>\n",
       "      <th>dataset</th>\n",
       "      <th>silhouette_score</th>\n",
       "      <th>num_clusters</th>\n",
       "      <th>method</th>\n",
       "      <th>trial</th>\n",
       "      <th>labels</th>\n",
       "      <th>ground_truth</th>\n",
       "    </tr>\n",
       "  </thead>\n",
       "  <tbody>\n",
       "    <tr>\n",
       "      <th>205</th>\n",
       "      <td>ReprocessedAllenData.h5ad</td>\n",
       "      <td>-0.012918</td>\n",
       "      <td>5</td>\n",
       "      <td>spectral</td>\n",
       "      <td>0</td>\n",
       "      <td>[0 0 0 3 0 3 0 0 0 0 0 3 0 0 0 0 3 3 3 0 3 3 3...</td>\n",
       "      <td>[ 2  2  7 15  2  1  2  1  1  2  2  0  2  2  5 ...</td>\n",
       "    </tr>\n",
       "    <tr>\n",
       "      <th>13</th>\n",
       "      <td>darmanis_brain.h5ad</td>\n",
       "      <td>0.000425</td>\n",
       "      <td>6</td>\n",
       "      <td>spectral</td>\n",
       "      <td>0</td>\n",
       "      <td>[1 5 1 0 0 0 1 0 0 0 1 0 0 0 0 0 0 0 1 1 1 1 0...</td>\n",
       "      <td>[8 5 8 5 5 8 8 5 5 5 8 5 5 5 1 5 5 5 8 8 8 8 0...</td>\n",
       "    </tr>\n",
       "    <tr>\n",
       "      <th>40</th>\n",
       "      <td>romanov_brain.h5ad</td>\n",
       "      <td>0.017452</td>\n",
       "      <td>2</td>\n",
       "      <td>spectral</td>\n",
       "      <td>0</td>\n",
       "      <td>[1 1 0 ... 0 0 0]</td>\n",
       "      <td>[5 5 5 ... 4 4 4]</td>\n",
       "    </tr>\n",
       "    <tr>\n",
       "      <th>45</th>\n",
       "      <td>romanov_brain.h5ad</td>\n",
       "      <td>0.023149</td>\n",
       "      <td>4</td>\n",
       "      <td>kmeans</td>\n",
       "      <td>0</td>\n",
       "      <td>[2 2 0 ... 0 0 0]</td>\n",
       "      <td>[5 5 5 ... 4 4 4]</td>\n",
       "    </tr>\n",
       "    <tr>\n",
       "      <th>118</th>\n",
       "      <td>lawlow_pancreas.h5ad</td>\n",
       "      <td>0.044791</td>\n",
       "      <td>2</td>\n",
       "      <td>spectral</td>\n",
       "      <td>0</td>\n",
       "      <td>[0 0 0 0 0 0 0 0 0 0 0 0 0 0 0 0 0 0 0 0 0 0 0...</td>\n",
       "      <td>[6 2 2 2 6 2 7 2 2 2 4 1 1 1 2 2 1 2 1 0 1 1 6...</td>\n",
       "    </tr>\n",
       "  </tbody>\n",
       "</table>\n",
       "</div>"
      ],
      "text/plain": [
       "                       dataset  silhouette_score  num_clusters    method  \\\n",
       "205  ReprocessedAllenData.h5ad         -0.012918             5  spectral   \n",
       "13         darmanis_brain.h5ad          0.000425             6  spectral   \n",
       "40          romanov_brain.h5ad          0.017452             2  spectral   \n",
       "45          romanov_brain.h5ad          0.023149             4    kmeans   \n",
       "118       lawlow_pancreas.h5ad          0.044791             2  spectral   \n",
       "\n",
       "     trial                                             labels  \\\n",
       "205      0  [0 0 0 3 0 3 0 0 0 0 0 3 0 0 0 0 3 3 3 0 3 3 3...   \n",
       "13       0  [1 5 1 0 0 0 1 0 0 0 1 0 0 0 0 0 0 0 1 1 1 1 0...   \n",
       "40       0                                  [1 1 0 ... 0 0 0]   \n",
       "45       0                                  [2 2 0 ... 0 0 0]   \n",
       "118      0  [0 0 0 0 0 0 0 0 0 0 0 0 0 0 0 0 0 0 0 0 0 0 0...   \n",
       "\n",
       "                                          ground_truth  \n",
       "205  [ 2  2  7 15  2  1  2  1  1  2  2  0  2  2  5 ...  \n",
       "13   [8 5 8 5 5 8 8 5 5 5 8 5 5 5 1 5 5 5 8 8 8 8 0...  \n",
       "40                                   [5 5 5 ... 4 4 4]  \n",
       "45                                   [5 5 5 ... 4 4 4]  \n",
       "118  [6 2 2 2 6 2 7 2 2 2 4 1 1 1 2 2 1 2 1 0 1 1 6...  "
      ]
     },
     "execution_count": 4,
     "metadata": {},
     "output_type": "execute_result"
    }
   ],
   "source": [
    "# Get num_clusters with top silhouette score for each dataset\n",
    "df = pd.read_csv('output/one_trial_silhouette_score.csv', index_col=0)\n",
    "top_df = df.sort_values('silhouette_score').drop_duplicates(['dataset','method'], keep='last')\n",
    "top_df.head()"
   ]
  },
  {
   "cell_type": "code",
   "execution_count": 22,
   "id": "5104bf02",
   "metadata": {},
   "outputs": [],
   "source": [
    "# Calculate ARI for these top number of clusters\n",
    "def ARI_row(row):\n",
    "    return ARI(row['labels'], row['ground_truth'])\n",
    "top_df['ARI'] = top_df.apply(ARI_row, axis=1)"
   ]
  },
  {
   "cell_type": "code",
   "execution_count": 36,
   "id": "f41b92b5",
   "metadata": {},
   "outputs": [
    {
     "data": {
      "text/html": [
       "<div>\n",
       "<style scoped>\n",
       "    .dataframe tbody tr th:only-of-type {\n",
       "        vertical-align: middle;\n",
       "    }\n",
       "\n",
       "    .dataframe tbody tr th {\n",
       "        vertical-align: top;\n",
       "    }\n",
       "\n",
       "    .dataframe thead th {\n",
       "        text-align: right;\n",
       "    }\n",
       "</style>\n",
       "<table border=\"1\" class=\"dataframe\">\n",
       "  <thead>\n",
       "    <tr style=\"text-align: right;\">\n",
       "      <th></th>\n",
       "      <th>dataset</th>\n",
       "      <th>silhouette_score</th>\n",
       "      <th>num_clusters</th>\n",
       "      <th>method</th>\n",
       "      <th>trial</th>\n",
       "      <th>labels</th>\n",
       "      <th>ground_truth</th>\n",
       "      <th>ARI</th>\n",
       "    </tr>\n",
       "  </thead>\n",
       "  <tbody>\n",
       "    <tr>\n",
       "      <th>205</th>\n",
       "      <td>ReprocessedAllenData.h5ad</td>\n",
       "      <td>-0.012918</td>\n",
       "      <td>5</td>\n",
       "      <td>spectral</td>\n",
       "      <td>0</td>\n",
       "      <td>[0, 0, 0, 3, 0, 3, 0, 0, 0, 0, 0, 3, 0, 0, 0, ...</td>\n",
       "      <td>[2, 2, 7, 15, 2, 1, 2, 1, 1, 2, 2, 0, 2, 2, 5,...</td>\n",
       "      <td>0.231805</td>\n",
       "    </tr>\n",
       "    <tr>\n",
       "      <th>13</th>\n",
       "      <td>darmanis_brain.h5ad</td>\n",
       "      <td>0.000425</td>\n",
       "      <td>6</td>\n",
       "      <td>spectral</td>\n",
       "      <td>0</td>\n",
       "      <td>[1, 5, 1, 0, 0, 0, 1, 0, 0, 0, 1, 0, 0, 0, 0, ...</td>\n",
       "      <td>[8, 5, 8, 5, 5, 8, 8, 5, 5, 5, 8, 5, 5, 5, 1, ...</td>\n",
       "      <td>0.449507</td>\n",
       "    </tr>\n",
       "    <tr>\n",
       "      <th>40</th>\n",
       "      <td>romanov_brain.h5ad</td>\n",
       "      <td>0.017452</td>\n",
       "      <td>2</td>\n",
       "      <td>spectral</td>\n",
       "      <td>0</td>\n",
       "      <td>[1, 1, 0, 1, 1, 1, 1, 1, 1, 1, 1, 1, 1, 1, 1, ...</td>\n",
       "      <td>[5, 5, 5, 5, 5, 5, 5, 5, 5, 5, 5, 5, 5, 5, 5, ...</td>\n",
       "      <td>0.338498</td>\n",
       "    </tr>\n",
       "    <tr>\n",
       "      <th>45</th>\n",
       "      <td>romanov_brain.h5ad</td>\n",
       "      <td>0.023149</td>\n",
       "      <td>4</td>\n",
       "      <td>kmeans</td>\n",
       "      <td>0</td>\n",
       "      <td>[2, 2, 0, 2, 2, 2, 2, 2, 2, 2, 2, 2, 2, 2, 2, ...</td>\n",
       "      <td>[5, 5, 5, 5, 5, 5, 5, 5, 5, 5, 5, 5, 5, 5, 5, ...</td>\n",
       "      <td>0.605354</td>\n",
       "    </tr>\n",
       "    <tr>\n",
       "      <th>118</th>\n",
       "      <td>lawlow_pancreas.h5ad</td>\n",
       "      <td>0.044791</td>\n",
       "      <td>2</td>\n",
       "      <td>spectral</td>\n",
       "      <td>0</td>\n",
       "      <td>[0, 0, 0, 0, 0, 0, 0, 0, 0, 0, 0, 0, 0, 0, 0, ...</td>\n",
       "      <td>[6, 2, 2, 2, 6, 2, 7, 2, 2, 2, 4, 1, 1, 1, 2, ...</td>\n",
       "      <td>0.051188</td>\n",
       "    </tr>\n",
       "  </tbody>\n",
       "</table>\n",
       "</div>"
      ],
      "text/plain": [
       "                       dataset  silhouette_score  num_clusters    method  \\\n",
       "205  ReprocessedAllenData.h5ad         -0.012918             5  spectral   \n",
       "13         darmanis_brain.h5ad          0.000425             6  spectral   \n",
       "40          romanov_brain.h5ad          0.017452             2  spectral   \n",
       "45          romanov_brain.h5ad          0.023149             4    kmeans   \n",
       "118       lawlow_pancreas.h5ad          0.044791             2  spectral   \n",
       "\n",
       "     trial                                             labels  \\\n",
       "205      0  [0, 0, 0, 3, 0, 3, 0, 0, 0, 0, 0, 3, 0, 0, 0, ...   \n",
       "13       0  [1, 5, 1, 0, 0, 0, 1, 0, 0, 0, 1, 0, 0, 0, 0, ...   \n",
       "40       0  [1, 1, 0, 1, 1, 1, 1, 1, 1, 1, 1, 1, 1, 1, 1, ...   \n",
       "45       0  [2, 2, 0, 2, 2, 2, 2, 2, 2, 2, 2, 2, 2, 2, 2, ...   \n",
       "118      0  [0, 0, 0, 0, 0, 0, 0, 0, 0, 0, 0, 0, 0, 0, 0, ...   \n",
       "\n",
       "                                          ground_truth       ARI  \n",
       "205  [2, 2, 7, 15, 2, 1, 2, 1, 1, 2, 2, 0, 2, 2, 5,...  0.231805  \n",
       "13   [8, 5, 8, 5, 5, 8, 8, 5, 5, 5, 8, 5, 5, 5, 1, ...  0.449507  \n",
       "40   [5, 5, 5, 5, 5, 5, 5, 5, 5, 5, 5, 5, 5, 5, 5, ...  0.338498  \n",
       "45   [5, 5, 5, 5, 5, 5, 5, 5, 5, 5, 5, 5, 5, 5, 5, ...  0.605354  \n",
       "118  [6, 2, 2, 2, 6, 2, 7, 2, 2, 2, 4, 1, 1, 1, 2, ...  0.051188  "
      ]
     },
     "execution_count": 36,
     "metadata": {},
     "output_type": "execute_result"
    }
   ],
   "source": [
    "top_df.head()"
   ]
  },
  {
   "cell_type": "code",
   "execution_count": 39,
   "id": "be917c10",
   "metadata": {},
   "outputs": [],
   "source": [
    "# Get the ARI performance from Leiden methods\n",
    "leiden_df = pd.read_csv('output/leiden_data.csv')\n",
    "leiden_df = leiden_df[(leiden_df['method'] == 'reduced') & (leiden_df['res'] == 1.1)]\n",
    "leiden_df['ARI'] = leiden_df['mean']"
   ]
  },
  {
   "cell_type": "markdown",
   "id": "00aa2176",
   "metadata": {},
   "source": [
    "## Plot 1: Compare ARI of classical methods with Leiden"
   ]
  },
  {
   "cell_type": "code",
   "execution_count": 41,
   "id": "4e58cdbd",
   "metadata": {},
   "outputs": [],
   "source": [
    "# Get best performing ARI for each classical method and compare with Leiden\n",
    "plot1_df = pd.concat([top_df, leiden_df])\n",
    "plot1_df['method'] = pd.Categorical(plot1_df['method'], categories=['reduced', 'kmeans', 'gm', 'spectral'])"
   ]
  },
  {
   "cell_type": "code",
   "execution_count": 43,
   "id": "4bbe09bb",
   "metadata": {},
   "outputs": [],
   "source": [
    "true_titles = {\n",
    "    'ReprocessedAllenData.h5ad': 'Tasic et al. (2016)\\n Mouse Visual Cortex',\n",
    "    'darmanis_brain.h5ad': 'Darmanis et al. (2015)\\n Human Brain',\n",
    "    'hermann_spermatogenesis.h5ad': 'Hermann et al. (2018)\\n Mouse Spermatogenic Cells',\n",
    "    'lawlow_pancreas.h5ad': 'Lawlor et al. (2017)\\n Human Pancreas', \n",
    "    'romanov_brain.h5ad': 'Romanov et al. (2017)\\n Mouse Brain', \n",
    "    'zhong_prefrontal.h5ad': 'Zhong et al. (2018)\\n Human Prefrontal Cortex', \n",
    "}"
   ]
  },
  {
   "cell_type": "code",
   "execution_count": 44,
   "id": "6e332498",
   "metadata": {
    "scrolled": false
   },
   "outputs": [
    {
     "data": {
      "text/plain": [
       "<ErrorbarContainer object of 3 artists>"
      ]
     },
     "execution_count": 44,
     "metadata": {},
     "output_type": "execute_result"
    },
    {
     "data": {
      "image/png": "[encoded data removed]",
      "text/plain": [
       "<Figure size 1152x576 with 1 Axes>"
      ]
     },
     "metadata": {},
     "output_type": "display_data"
    }
   ],
   "source": [
    "# Custom color palette\n",
    "custom_set2 = list(sns.color_palette(\"Set2\"))\n",
    "custom_set2.pop(1)\n",
    "\n",
    "ax = sns.barplot(\n",
    "    x=\"dataset\",\n",
    "    y=\"ARI\",\n",
    "    hue=\"method\",\n",
    "    data=plot1_df.groupby(['dataset', 'method']).max().reset_index(), # enforce consistent order on datasets\n",
    "    palette=custom_set2,\n",
    ")\n",
    "ax.set_ylabel(\"ARI\", fontsize = 16)\n",
    "ax.set_xlabel(None)\n",
    "ax.set_title(\"Best ARI Leiden with Hypergraph Construction (Ours) and Classical Methods\", fontsize=18)\n",
    "\n",
    "handles, labels = ax.get_legend_handles_labels()\n",
    "labels = ['Leiden with Hypergraph Construction (Ours)', 'K-Means', 'Gaussian Mixture Model', 'Spectral Clustering']\n",
    "ax.legend(handles, labels)\n",
    "\n",
    "ax.set_xticklabels( true_titles.values() )\n",
    "plt.xticks(rotation = 0)\n",
    "ax.grid(False)\n",
    "ax.grid(True, which='major', axis='y', alpha=0.3)\n",
    "ax.spines['right'].set_visible(False)\n",
    "ax.spines['top'].set_visible(False)\n",
    "plt.savefig('output/best_ARI_classical.svg')\n",
    "\n",
    "errors = np.array(plot1_df.groupby(['method', 'dataset']).mean()['std'])\n",
    "x_coords = [p.get_x() + 0.5*p.get_width() for p in ax.patches]\n",
    "y_coords = [p.get_height() for p in ax.patches]\n",
    "plt.errorbar(x=x_coords, y=y_coords, yerr=errors, fmt=\"none\", c= \"k\")"
   ]
  },
  {
   "cell_type": "markdown",
   "id": "7a524746",
   "metadata": {},
   "source": [
    "## Plot 2: Compare selected no. of clusters by classical methods with Leiden"
   ]
  },
  {
   "cell_type": "code",
   "execution_count": 45,
   "id": "7aeb1cb3",
   "metadata": {},
   "outputs": [],
   "source": [
    "# Read experimental data\n",
    "# Construct dataframe with number of clusters associated with highest ARI from each method\n",
    "plot2_df = plot1_df[['dataset', 'method', 'num_clusters']].dropna()\n",
    "leiden_cluster_df = pd.read_csv('output/leiden_cluster_data.csv')[['dataset', 'method', 'num_clusters']]\n",
    "plot2_df = pd.concat([plot2_df, leiden_cluster_df])\n",
    "plot2_df['method'] = pd.Categorical(\n",
    "    plot2_df['method'],\n",
    "    categories=['ground_truth', 'reduced', 'base', 'kmeans', 'gm', 'spectral'],\n",
    ")"
   ]
  },
  {
   "cell_type": "code",
   "execution_count": null,
   "id": "020b9000",
   "metadata": {},
   "outputs": [],
   "source": [
    "# Custom color palette\n",
    "custom_set2 = list(sns.color_palette(\"Set2\"))\n",
    "custom_set2.insert(0,custom_set2[-1])\n",
    "\n",
    "ax = sns.barplot(\n",
    "    x=\"dataset\",\n",
    "    y=\"num_clusters\",\n",
    "    hue=\"method\",\n",
    "    data=plot2_df.groupby(['dataset', 'method']).max().reset_index(), # enforce consistent order on datasets\n",
    "    palette=custom_set2,\n",
    ")\n",
    "ax.set_ylabel(\"Number of Clusters\", fontsize = 16)\n",
    "ax.set_xlabel(None)\n",
    "ax.set_title(\"Number of Clusters Selected by Methods\", fontsize=18)\n",
    "\n",
    "handles, labels = ax.get_legend_handles_labels()\n",
    "labels = [\n",
    "    'Ground Truth',\n",
    "    'Leiden with Hypergraph Construction (Ours)',\n",
    "    'Leiden with KNN Construction',\n",
    "    'K-Means',\n",
    "    'Gaussian Mixture Model',\n",
    "    'Spectral Clustering',\n",
    "]\n",
    "ax.legend(handles, labels)\n",
    "\n",
    "ax.set_xticklabels( true_titles.values() )\n",
    "plt.xticks(rotation = 0)\n",
    "ax.grid(False)\n",
    "ax.grid(True, which='major', axis='y', alpha=0.3)\n",
    "ax.spines['right'].set_visible(False)\n",
    "ax.spines['top'].set_visible(False)\n",
    "plt.savefig('output/num_clusters.svg')"
   ]
  }
 ],
 "metadata": {
  "kernelspec": {
   "display_name": "leiden2",
   "language": "python",
   "name": "leiden2"
  },
  "language_info": {
   "codemirror_mode": {
    "name": "ipython",
    "version": 3
   },
   "file_extension": ".py",
   "mimetype": "text/x-python",
   "name": "python",
   "nbconvert_exporter": "python",
   "pygments_lexer": "ipython3",
   "version": "3.7.13"
  }
 },
 "nbformat": 4,
 "nbformat_minor": 5
}
